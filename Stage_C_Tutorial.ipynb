{
  "nbformat": 4,
  "nbformat_minor": 0,
  "metadata": {
    "colab": {
      "name": "Stage C Tutorial.ipynb",
      "provenance": [],
      "mount_file_id": "1xnaZSVdARS_jz1G-YahIXsV5E6yxvY5B",
      "authorship_tag": "ABX9TyPsHtj4ydClYXkdNpJSDdhF",
      "include_colab_link": true
    },
    "kernelspec": {
      "name": "python3",
      "display_name": "Python 3"
    }
  },
  "cells": [
    {
      "cell_type": "markdown",
      "metadata": {
        "id": "view-in-github",
        "colab_type": "text"
      },
      "source": [
        "<a href=\"https://colab.research.google.com/github/Chrys97/Hamoye/blob/master/Stage_C_Tutorial.ipynb\" target=\"_parent\"><img src=\"https://colab.research.google.com/assets/colab-badge.svg\" alt=\"Open In Colab\"/></a>"
      ]
    },
    {
      "cell_type": "code",
      "metadata": {
        "id": "LCQZiduRNTvL",
        "colab_type": "code",
        "colab": {}
      },
      "source": [
        "import numpy as np\n",
        "import pandas as pd\n",
        "import seaborn as sns\n",
        "import matplotlib.pyplot as py"
      ],
      "execution_count": 60,
      "outputs": []
    },
    {
      "cell_type": "code",
      "metadata": {
        "id": "dGRLkQ-0Nr3r",
        "colab_type": "code",
        "colab": {
          "base_uri": "https://localhost:8080/",
          "height": 71
        },
        "outputId": "e01a7d7a-0993-4631-8930-bec5281646f3"
      },
      "source": [
        "df = pd.read_csv('/content/drive/My Drive/NFA 2019 public_data.csv')"
      ],
      "execution_count": 61,
      "outputs": [
        {
          "output_type": "stream",
          "text": [
            "/usr/local/lib/python3.6/dist-packages/IPython/core/interactiveshell.py:2718: DtypeWarning: Columns (6) have mixed types.Specify dtype option on import or set low_memory=False.\n",
            "  interactivity=interactivity, compiler=compiler, result=result)\n"
          ],
          "name": "stderr"
        }
      ]
    },
    {
      "cell_type": "code",
      "metadata": {
        "id": "OR4EBDgPT4sj",
        "colab_type": "code",
        "colab": {
          "base_uri": "https://localhost:8080/",
          "height": 340
        },
        "outputId": "a0b310b1-dcfa-47b1-aed2-8cb3765388b6"
      },
      "source": [
        "df.info()"
      ],
      "execution_count": 62,
      "outputs": [
        {
          "output_type": "stream",
          "text": [
            "<class 'pandas.core.frame.DataFrame'>\n",
            "RangeIndex: 72186 entries, 0 to 72185\n",
            "Data columns (total 12 columns):\n",
            " #   Column          Non-Null Count  Dtype  \n",
            "---  ------          --------------  -----  \n",
            " 0   country         72186 non-null  object \n",
            " 1   year            72186 non-null  int64  \n",
            " 2   country_code    72186 non-null  int64  \n",
            " 3   record          72186 non-null  object \n",
            " 4   crop_land       51714 non-null  float64\n",
            " 5   grazing_land    51714 non-null  float64\n",
            " 6   forest_land     51714 non-null  object \n",
            " 7   fishing_ground  51713 non-null  float64\n",
            " 8   built_up_land   51713 non-null  float64\n",
            " 9   carbon          51713 non-null  float64\n",
            " 10  total           72177 non-null  float64\n",
            " 11  QScore          72185 non-null  object \n",
            "dtypes: float64(6), int64(2), object(4)\n",
            "memory usage: 6.6+ MB\n"
          ],
          "name": "stdout"
        }
      ]
    },
    {
      "cell_type": "code",
      "metadata": {
        "id": "oArOboe2UEy-",
        "colab_type": "code",
        "colab": {
          "base_uri": "https://localhost:8080/",
          "height": 119
        },
        "outputId": "7427e084-fbfc-4ef1-fac5-f5622dcc77ea"
      },
      "source": [
        "df['QScore'].value_counts()"
      ],
      "execution_count": 63,
      "outputs": [
        {
          "output_type": "execute_result",
          "data": {
            "text/plain": [
              "3A    51481\n",
              "2A    10576\n",
              "2B    10096\n",
              "1B       16\n",
              "1A       16\n",
              "Name: QScore, dtype: int64"
            ]
          },
          "metadata": {
            "tags": []
          },
          "execution_count": 63
        }
      ]
    },
    {
      "cell_type": "code",
      "metadata": {
        "id": "2dRNqPDRUhR_",
        "colab_type": "code",
        "colab": {
          "base_uri": "https://localhost:8080/",
          "height": 238
        },
        "outputId": "72bf792e-79f5-40a6-e55a-004a2af2cc2d"
      },
      "source": [
        "df.isna().sum()"
      ],
      "execution_count": 64,
      "outputs": [
        {
          "output_type": "execute_result",
          "data": {
            "text/plain": [
              "country               0\n",
              "year                  0\n",
              "country_code          0\n",
              "record                0\n",
              "crop_land         20472\n",
              "grazing_land      20472\n",
              "forest_land       20472\n",
              "fishing_ground    20473\n",
              "built_up_land     20473\n",
              "carbon            20473\n",
              "total                 9\n",
              "QScore                1\n",
              "dtype: int64"
            ]
          },
          "metadata": {
            "tags": []
          },
          "execution_count": 64
        }
      ]
    },
    {
      "cell_type": "code",
      "metadata": {
        "id": "49KEjZkIUvZB",
        "colab_type": "code",
        "colab": {}
      },
      "source": [
        "df = df.dropna()"
      ],
      "execution_count": 65,
      "outputs": []
    },
    {
      "cell_type": "code",
      "metadata": {
        "id": "uxeD5KfuU06J",
        "colab_type": "code",
        "colab": {
          "base_uri": "https://localhost:8080/",
          "height": 340
        },
        "outputId": "cc75a1aa-7fa0-4e11-f2ff-0cb33bdf1b8e"
      },
      "source": [
        "df.info()"
      ],
      "execution_count": 66,
      "outputs": [
        {
          "output_type": "stream",
          "text": [
            "<class 'pandas.core.frame.DataFrame'>\n",
            "Int64Index: 51713 entries, 0 to 72185\n",
            "Data columns (total 12 columns):\n",
            " #   Column          Non-Null Count  Dtype  \n",
            "---  ------          --------------  -----  \n",
            " 0   country         51713 non-null  object \n",
            " 1   year            51713 non-null  int64  \n",
            " 2   country_code    51713 non-null  int64  \n",
            " 3   record          51713 non-null  object \n",
            " 4   crop_land       51713 non-null  float64\n",
            " 5   grazing_land    51713 non-null  float64\n",
            " 6   forest_land     51713 non-null  object \n",
            " 7   fishing_ground  51713 non-null  float64\n",
            " 8   built_up_land   51713 non-null  float64\n",
            " 9   carbon          51713 non-null  float64\n",
            " 10  total           51713 non-null  float64\n",
            " 11  QScore          51713 non-null  object \n",
            "dtypes: float64(6), int64(2), object(4)\n",
            "memory usage: 5.1+ MB\n"
          ],
          "name": "stdout"
        }
      ]
    },
    {
      "cell_type": "code",
      "metadata": {
        "id": "ls0y5InRU9mv",
        "colab_type": "code",
        "colab": {
          "base_uri": "https://localhost:8080/",
          "height": 85
        },
        "outputId": "3e11cd23-19e6-41b5-eb05-e9914b586e4f"
      },
      "source": [
        "df['QScore'].value_counts()"
      ],
      "execution_count": 67,
      "outputs": [
        {
          "output_type": "execute_result",
          "data": {
            "text/plain": [
              "3A    51473\n",
              "2A      224\n",
              "1A       16\n",
              "Name: QScore, dtype: int64"
            ]
          },
          "metadata": {
            "tags": []
          },
          "execution_count": 67
        }
      ]
    },
    {
      "cell_type": "code",
      "metadata": {
        "id": "lizY20jhVtjX",
        "colab_type": "code",
        "colab": {
          "base_uri": "https://localhost:8080/",
          "height": 68
        },
        "outputId": "b2fa40b9-4e52-4886-f427-5d70723c6536"
      },
      "source": [
        "df['QScore'] = df['QScore'].replace(['1A'], '2A')\n",
        "df['QScore'].value_counts()"
      ],
      "execution_count": 68,
      "outputs": [
        {
          "output_type": "execute_result",
          "data": {
            "text/plain": [
              "3A    51473\n",
              "2A      240\n",
              "Name: QScore, dtype: int64"
            ]
          },
          "metadata": {
            "tags": []
          },
          "execution_count": 68
        }
      ]
    },
    {
      "cell_type": "code",
      "metadata": {
        "id": "QU1204RHXAK6",
        "colab_type": "code",
        "colab": {
          "base_uri": "https://localhost:8080/",
          "height": 68
        },
        "outputId": "80e3787f-afe0-4b50-e608-6371dfa96e4d"
      },
      "source": [
        "df_2A = df[df.QScore =='2A']\n",
        "df_3A = df[df.QScore == '3A'].sample(350)\n",
        "data_df = df_2A.append(df_3A)\n",
        "data_df['QScore'].value_counts()"
      ],
      "execution_count": 69,
      "outputs": [
        {
          "output_type": "execute_result",
          "data": {
            "text/plain": [
              "3A    350\n",
              "2A    240\n",
              "Name: QScore, dtype: int64"
            ]
          },
          "metadata": {
            "tags": []
          },
          "execution_count": 69
        }
      ]
    },
    {
      "cell_type": "code",
      "metadata": {
        "id": "tjXJX8JBZEt4",
        "colab_type": "code",
        "colab": {
          "base_uri": "https://localhost:8080/",
          "height": 419
        },
        "outputId": "5f723577-1cf5-4064-ba23-b411ce7fc8a9"
      },
      "source": [
        "data_df"
      ],
      "execution_count": 70,
      "outputs": [
        {
          "output_type": "execute_result",
          "data": {
            "text/html": [
              "<div>\n",
              "<style scoped>\n",
              "    .dataframe tbody tr th:only-of-type {\n",
              "        vertical-align: middle;\n",
              "    }\n",
              "\n",
              "    .dataframe tbody tr th {\n",
              "        vertical-align: top;\n",
              "    }\n",
              "\n",
              "    .dataframe thead th {\n",
              "        text-align: right;\n",
              "    }\n",
              "</style>\n",
              "<table border=\"1\" class=\"dataframe\">\n",
              "  <thead>\n",
              "    <tr style=\"text-align: right;\">\n",
              "      <th></th>\n",
              "      <th>country</th>\n",
              "      <th>year</th>\n",
              "      <th>country_code</th>\n",
              "      <th>record</th>\n",
              "      <th>crop_land</th>\n",
              "      <th>grazing_land</th>\n",
              "      <th>forest_land</th>\n",
              "      <th>fishing_ground</th>\n",
              "      <th>built_up_land</th>\n",
              "      <th>carbon</th>\n",
              "      <th>total</th>\n",
              "      <th>QScore</th>\n",
              "    </tr>\n",
              "  </thead>\n",
              "  <tbody>\n",
              "    <tr>\n",
              "      <th>1536</th>\n",
              "      <td>Algeria</td>\n",
              "      <td>2016</td>\n",
              "      <td>4</td>\n",
              "      <td>AreaPerCap</td>\n",
              "      <td>2.072989e-01</td>\n",
              "      <td>8.112722e-01</td>\n",
              "      <td>0.048357265</td>\n",
              "      <td>2.258528e-02</td>\n",
              "      <td>2.998367e-02</td>\n",
              "      <td>0.000000e+00</td>\n",
              "      <td>1.119497e+00</td>\n",
              "      <td>2A</td>\n",
              "    </tr>\n",
              "    <tr>\n",
              "      <th>1537</th>\n",
              "      <td>Algeria</td>\n",
              "      <td>2016</td>\n",
              "      <td>4</td>\n",
              "      <td>AreaTotHA</td>\n",
              "      <td>8.417600e+06</td>\n",
              "      <td>3.294260e+07</td>\n",
              "      <td>1963600</td>\n",
              "      <td>9.171000e+05</td>\n",
              "      <td>1.217520e+06</td>\n",
              "      <td>0.000000e+00</td>\n",
              "      <td>4.545842e+07</td>\n",
              "      <td>2A</td>\n",
              "    </tr>\n",
              "    <tr>\n",
              "      <th>1538</th>\n",
              "      <td>Algeria</td>\n",
              "      <td>2016</td>\n",
              "      <td>4</td>\n",
              "      <td>BiocapPerCap</td>\n",
              "      <td>2.021916e-01</td>\n",
              "      <td>2.636077e-01</td>\n",
              "      <td>0.027166736</td>\n",
              "      <td>7.947991e-03</td>\n",
              "      <td>2.924496e-02</td>\n",
              "      <td>0.000000e+00</td>\n",
              "      <td>5.301590e-01</td>\n",
              "      <td>2A</td>\n",
              "    </tr>\n",
              "    <tr>\n",
              "      <th>1539</th>\n",
              "      <td>Algeria</td>\n",
              "      <td>2016</td>\n",
              "      <td>4</td>\n",
              "      <td>BiocapTotGHA</td>\n",
              "      <td>8.210214e+06</td>\n",
              "      <td>1.070408e+07</td>\n",
              "      <td>1103135.245</td>\n",
              "      <td>3.227369e+05</td>\n",
              "      <td>1.187524e+06</td>\n",
              "      <td>0.000000e+00</td>\n",
              "      <td>2.152769e+07</td>\n",
              "      <td>2A</td>\n",
              "    </tr>\n",
              "    <tr>\n",
              "      <th>1540</th>\n",
              "      <td>Algeria</td>\n",
              "      <td>2016</td>\n",
              "      <td>4</td>\n",
              "      <td>EFConsPerCap</td>\n",
              "      <td>6.280528e-01</td>\n",
              "      <td>1.810332e-01</td>\n",
              "      <td>0.162800822</td>\n",
              "      <td>1.472910e-02</td>\n",
              "      <td>2.924496e-02</td>\n",
              "      <td>1.391455e+00</td>\n",
              "      <td>2.407316e+00</td>\n",
              "      <td>2A</td>\n",
              "    </tr>\n",
              "    <tr>\n",
              "      <th>...</th>\n",
              "      <td>...</td>\n",
              "      <td>...</td>\n",
              "      <td>...</td>\n",
              "      <td>...</td>\n",
              "      <td>...</td>\n",
              "      <td>...</td>\n",
              "      <td>...</td>\n",
              "      <td>...</td>\n",
              "      <td>...</td>\n",
              "      <td>...</td>\n",
              "      <td>...</td>\n",
              "      <td>...</td>\n",
              "    </tr>\n",
              "    <tr>\n",
              "      <th>2347</th>\n",
              "      <td>Argentina</td>\n",
              "      <td>1968</td>\n",
              "      <td>9</td>\n",
              "      <td>BiocapTotGHA</td>\n",
              "      <td>2.383132e+07</td>\n",
              "      <td>7.567452e+07</td>\n",
              "      <td>34001536.15</td>\n",
              "      <td>7.155958e+07</td>\n",
              "      <td>8.568679e+05</td>\n",
              "      <td>0.000000e+00</td>\n",
              "      <td>2.059238e+08</td>\n",
              "      <td>3A</td>\n",
              "    </tr>\n",
              "    <tr>\n",
              "      <th>24948</th>\n",
              "      <td>Guadeloupe</td>\n",
              "      <td>1989</td>\n",
              "      <td>87</td>\n",
              "      <td>EFConsPerCap</td>\n",
              "      <td>1.770160e-01</td>\n",
              "      <td>3.011455e-02</td>\n",
              "      <td>0.207795237</td>\n",
              "      <td>2.312614e-01</td>\n",
              "      <td>3.069682e-03</td>\n",
              "      <td>2.395438e+00</td>\n",
              "      <td>3.044695e+00</td>\n",
              "      <td>3A</td>\n",
              "    </tr>\n",
              "    <tr>\n",
              "      <th>38677</th>\n",
              "      <td>Malaysia</td>\n",
              "      <td>1993</td>\n",
              "      <td>131</td>\n",
              "      <td>EFConsTotGHA</td>\n",
              "      <td>1.374289e+07</td>\n",
              "      <td>2.400980e+06</td>\n",
              "      <td>17467877.12</td>\n",
              "      <td>6.332741e+06</td>\n",
              "      <td>1.232930e+06</td>\n",
              "      <td>2.537402e+07</td>\n",
              "      <td>6.655143e+07</td>\n",
              "      <td>3A</td>\n",
              "    </tr>\n",
              "    <tr>\n",
              "      <th>61223</th>\n",
              "      <td>Thailand</td>\n",
              "      <td>2003</td>\n",
              "      <td>216</td>\n",
              "      <td>EFConsTotGHA</td>\n",
              "      <td>3.690767e+07</td>\n",
              "      <td>1.530746e+06</td>\n",
              "      <td>16860554.72</td>\n",
              "      <td>1.431463e+07</td>\n",
              "      <td>4.254995e+06</td>\n",
              "      <td>7.009026e+07</td>\n",
              "      <td>1.439589e+08</td>\n",
              "      <td>3A</td>\n",
              "    </tr>\n",
              "    <tr>\n",
              "      <th>71860</th>\n",
              "      <td>World</td>\n",
              "      <td>1976</td>\n",
              "      <td>5001</td>\n",
              "      <td>BiocapPerCap</td>\n",
              "      <td>5.040910e-01</td>\n",
              "      <td>3.585108e-01</td>\n",
              "      <td>1.2924</td>\n",
              "      <td>2.649530e-01</td>\n",
              "      <td>3.668887e-02</td>\n",
              "      <td>0.000000e+00</td>\n",
              "      <td>2.456644e+00</td>\n",
              "      <td>3A</td>\n",
              "    </tr>\n",
              "  </tbody>\n",
              "</table>\n",
              "<p>590 rows × 12 columns</p>\n",
              "</div>"
            ],
            "text/plain": [
              "          country  year  country_code  ...        carbon         total  QScore\n",
              "1536      Algeria  2016             4  ...  0.000000e+00  1.119497e+00      2A\n",
              "1537      Algeria  2016             4  ...  0.000000e+00  4.545842e+07      2A\n",
              "1538      Algeria  2016             4  ...  0.000000e+00  5.301590e-01      2A\n",
              "1539      Algeria  2016             4  ...  0.000000e+00  2.152769e+07      2A\n",
              "1540      Algeria  2016             4  ...  1.391455e+00  2.407316e+00      2A\n",
              "...           ...   ...           ...  ...           ...           ...     ...\n",
              "2347    Argentina  1968             9  ...  0.000000e+00  2.059238e+08      3A\n",
              "24948  Guadeloupe  1989            87  ...  2.395438e+00  3.044695e+00      3A\n",
              "38677    Malaysia  1993           131  ...  2.537402e+07  6.655143e+07      3A\n",
              "61223    Thailand  2003           216  ...  7.009026e+07  1.439589e+08      3A\n",
              "71860       World  1976          5001  ...  0.000000e+00  2.456644e+00      3A\n",
              "\n",
              "[590 rows x 12 columns]"
            ]
          },
          "metadata": {
            "tags": []
          },
          "execution_count": 70
        }
      ]
    },
    {
      "cell_type": "code",
      "metadata": {
        "id": "f0ImCtnsZNe5",
        "colab_type": "code",
        "colab": {
          "base_uri": "https://localhost:8080/",
          "height": 419
        },
        "outputId": "c57b778b-6503-455f-80d0-da326773aefa"
      },
      "source": [
        "import sklearn.utils\n",
        "data_df = sklearn.utils.shuffle(data_df)\n",
        "data_df"
      ],
      "execution_count": 71,
      "outputs": [
        {
          "output_type": "execute_result",
          "data": {
            "text/html": [
              "<div>\n",
              "<style scoped>\n",
              "    .dataframe tbody tr th:only-of-type {\n",
              "        vertical-align: middle;\n",
              "    }\n",
              "\n",
              "    .dataframe tbody tr th {\n",
              "        vertical-align: top;\n",
              "    }\n",
              "\n",
              "    .dataframe thead th {\n",
              "        text-align: right;\n",
              "    }\n",
              "</style>\n",
              "<table border=\"1\" class=\"dataframe\">\n",
              "  <thead>\n",
              "    <tr style=\"text-align: right;\">\n",
              "      <th></th>\n",
              "      <th>country</th>\n",
              "      <th>year</th>\n",
              "      <th>country_code</th>\n",
              "      <th>record</th>\n",
              "      <th>crop_land</th>\n",
              "      <th>grazing_land</th>\n",
              "      <th>forest_land</th>\n",
              "      <th>fishing_ground</th>\n",
              "      <th>built_up_land</th>\n",
              "      <th>carbon</th>\n",
              "      <th>total</th>\n",
              "      <th>QScore</th>\n",
              "    </tr>\n",
              "  </thead>\n",
              "  <tbody>\n",
              "    <tr>\n",
              "      <th>65467</th>\n",
              "      <td>Ukraine</td>\n",
              "      <td>2016</td>\n",
              "      <td>230</td>\n",
              "      <td>AreaTotHA</td>\n",
              "      <td>3.267800e+07</td>\n",
              "      <td>8.837000e+06</td>\n",
              "      <td>9678800</td>\n",
              "      <td>1.028120e+07</td>\n",
              "      <td>1.440340e+06</td>\n",
              "      <td>0.000000e+00</td>\n",
              "      <td>6.291534e+07</td>\n",
              "      <td>2A</td>\n",
              "    </tr>\n",
              "    <tr>\n",
              "      <th>71165</th>\n",
              "      <td>Montenegro</td>\n",
              "      <td>2013</td>\n",
              "      <td>273</td>\n",
              "      <td>BiocapTotGHA</td>\n",
              "      <td>4.081066e+04</td>\n",
              "      <td>6.506471e+04</td>\n",
              "      <td>1.62678e+06</td>\n",
              "      <td>1.512980e+05</td>\n",
              "      <td>1.667999e+04</td>\n",
              "      <td>0.000000e+00</td>\n",
              "      <td>1.900632e+06</td>\n",
              "      <td>3A</td>\n",
              "    </tr>\n",
              "    <tr>\n",
              "      <th>4698</th>\n",
              "      <td>Barbados</td>\n",
              "      <td>2011</td>\n",
              "      <td>14</td>\n",
              "      <td>BiocapPerCap</td>\n",
              "      <td>8.035727e-02</td>\n",
              "      <td>3.240255e-03</td>\n",
              "      <td>0.019217837</td>\n",
              "      <td>4.411033e-02</td>\n",
              "      <td>4.247618e-02</td>\n",
              "      <td>0.000000e+00</td>\n",
              "      <td>1.894019e-01</td>\n",
              "      <td>3A</td>\n",
              "    </tr>\n",
              "    <tr>\n",
              "      <th>12049</th>\n",
              "      <td>Chile</td>\n",
              "      <td>1977</td>\n",
              "      <td>40</td>\n",
              "      <td>AreaTotHA</td>\n",
              "      <td>3.936577e+06</td>\n",
              "      <td>1.316342e+07</td>\n",
              "      <td>15186606.77</td>\n",
              "      <td>1.739020e+07</td>\n",
              "      <td>3.258970e+05</td>\n",
              "      <td>0.000000e+00</td>\n",
              "      <td>5.000270e+07</td>\n",
              "      <td>3A</td>\n",
              "    </tr>\n",
              "    <tr>\n",
              "      <th>57334</th>\n",
              "      <td>South Africa</td>\n",
              "      <td>2016</td>\n",
              "      <td>202</td>\n",
              "      <td>EFConsPerCap</td>\n",
              "      <td>2.942660e-01</td>\n",
              "      <td>1.279657e-01</td>\n",
              "      <td>0.221245369</td>\n",
              "      <td>8.211616e-02</td>\n",
              "      <td>2.523715e-02</td>\n",
              "      <td>2.400628e+00</td>\n",
              "      <td>3.151458e+00</td>\n",
              "      <td>2A</td>\n",
              "    </tr>\n",
              "    <tr>\n",
              "      <th>...</th>\n",
              "      <td>...</td>\n",
              "      <td>...</td>\n",
              "      <td>...</td>\n",
              "      <td>...</td>\n",
              "      <td>...</td>\n",
              "      <td>...</td>\n",
              "      <td>...</td>\n",
              "      <td>...</td>\n",
              "      <td>...</td>\n",
              "      <td>...</td>\n",
              "      <td>...</td>\n",
              "      <td>...</td>\n",
              "    </tr>\n",
              "    <tr>\n",
              "      <th>22569</th>\n",
              "      <td>Gabon</td>\n",
              "      <td>2016</td>\n",
              "      <td>74</td>\n",
              "      <td>AreaTotHA</td>\n",
              "      <td>4.950000e+05</td>\n",
              "      <td>4.665000e+06</td>\n",
              "      <td>23200000</td>\n",
              "      <td>4.657200e+06</td>\n",
              "      <td>7.718950e+04</td>\n",
              "      <td>0.000000e+00</td>\n",
              "      <td>3.309439e+07</td>\n",
              "      <td>2A</td>\n",
              "    </tr>\n",
              "    <tr>\n",
              "      <th>43618</th>\n",
              "      <td>Netherlands</td>\n",
              "      <td>1973</td>\n",
              "      <td>150</td>\n",
              "      <td>AreaPerCap</td>\n",
              "      <td>9.738505e-02</td>\n",
              "      <td>1.004151e-01</td>\n",
              "      <td>0.020786743</td>\n",
              "      <td>4.884269e-01</td>\n",
              "      <td>2.620292e-02</td>\n",
              "      <td>0.000000e+00</td>\n",
              "      <td>7.332168e-01</td>\n",
              "      <td>3A</td>\n",
              "    </tr>\n",
              "    <tr>\n",
              "      <th>20526</th>\n",
              "      <td>Finland</td>\n",
              "      <td>2016</td>\n",
              "      <td>67</td>\n",
              "      <td>EFProdPerCap</td>\n",
              "      <td>7.533517e-01</td>\n",
              "      <td>4.936446e-02</td>\n",
              "      <td>7.437320853</td>\n",
              "      <td>1.714518e-01</td>\n",
              "      <td>1.353134e-01</td>\n",
              "      <td>2.931224e+00</td>\n",
              "      <td>1.147803e+01</td>\n",
              "      <td>2A</td>\n",
              "    </tr>\n",
              "    <tr>\n",
              "      <th>56356</th>\n",
              "      <td>Singapore</td>\n",
              "      <td>2006</td>\n",
              "      <td>200</td>\n",
              "      <td>BiocapPerCap</td>\n",
              "      <td>8.285090e-04</td>\n",
              "      <td>0.000000e+00</td>\n",
              "      <td>0.002899371</td>\n",
              "      <td>1.561580e-02</td>\n",
              "      <td>2.928748e-02</td>\n",
              "      <td>0.000000e+00</td>\n",
              "      <td>4.863115e-02</td>\n",
              "      <td>3A</td>\n",
              "    </tr>\n",
              "    <tr>\n",
              "      <th>48367</th>\n",
              "      <td>Paraguay</td>\n",
              "      <td>2013</td>\n",
              "      <td>169</td>\n",
              "      <td>EFConsTotGHA</td>\n",
              "      <td>5.056742e+06</td>\n",
              "      <td>8.042399e+06</td>\n",
              "      <td>5628492.441</td>\n",
              "      <td>4.829135e+04</td>\n",
              "      <td>8.465478e+05</td>\n",
              "      <td>3.159352e+06</td>\n",
              "      <td>2.278182e+07</td>\n",
              "      <td>3A</td>\n",
              "    </tr>\n",
              "  </tbody>\n",
              "</table>\n",
              "<p>590 rows × 12 columns</p>\n",
              "</div>"
            ],
            "text/plain": [
              "            country  year  country_code  ...        carbon         total  QScore\n",
              "65467       Ukraine  2016           230  ...  0.000000e+00  6.291534e+07      2A\n",
              "71165    Montenegro  2013           273  ...  0.000000e+00  1.900632e+06      3A\n",
              "4698       Barbados  2011            14  ...  0.000000e+00  1.894019e-01      3A\n",
              "12049         Chile  1977            40  ...  0.000000e+00  5.000270e+07      3A\n",
              "57334  South Africa  2016           202  ...  2.400628e+00  3.151458e+00      2A\n",
              "...             ...   ...           ...  ...           ...           ...     ...\n",
              "22569         Gabon  2016            74  ...  0.000000e+00  3.309439e+07      2A\n",
              "43618   Netherlands  1973           150  ...  0.000000e+00  7.332168e-01      3A\n",
              "20526       Finland  2016            67  ...  2.931224e+00  1.147803e+01      2A\n",
              "56356     Singapore  2006           200  ...  0.000000e+00  4.863115e-02      3A\n",
              "48367      Paraguay  2013           169  ...  3.159352e+06  2.278182e+07      3A\n",
              "\n",
              "[590 rows x 12 columns]"
            ]
          },
          "metadata": {
            "tags": []
          },
          "execution_count": 71
        }
      ]
    },
    {
      "cell_type": "code",
      "metadata": {
        "id": "YfJFhjoJZ3Vw",
        "colab_type": "code",
        "colab": {
          "base_uri": "https://localhost:8080/",
          "height": 419
        },
        "outputId": "d9e0d309-e889-4be7-fbf7-874fa6728df8"
      },
      "source": [
        "data_df = data_df.reset_index(drop = True)\n",
        "data_df"
      ],
      "execution_count": 72,
      "outputs": [
        {
          "output_type": "execute_result",
          "data": {
            "text/html": [
              "<div>\n",
              "<style scoped>\n",
              "    .dataframe tbody tr th:only-of-type {\n",
              "        vertical-align: middle;\n",
              "    }\n",
              "\n",
              "    .dataframe tbody tr th {\n",
              "        vertical-align: top;\n",
              "    }\n",
              "\n",
              "    .dataframe thead th {\n",
              "        text-align: right;\n",
              "    }\n",
              "</style>\n",
              "<table border=\"1\" class=\"dataframe\">\n",
              "  <thead>\n",
              "    <tr style=\"text-align: right;\">\n",
              "      <th></th>\n",
              "      <th>country</th>\n",
              "      <th>year</th>\n",
              "      <th>country_code</th>\n",
              "      <th>record</th>\n",
              "      <th>crop_land</th>\n",
              "      <th>grazing_land</th>\n",
              "      <th>forest_land</th>\n",
              "      <th>fishing_ground</th>\n",
              "      <th>built_up_land</th>\n",
              "      <th>carbon</th>\n",
              "      <th>total</th>\n",
              "      <th>QScore</th>\n",
              "    </tr>\n",
              "  </thead>\n",
              "  <tbody>\n",
              "    <tr>\n",
              "      <th>0</th>\n",
              "      <td>Ukraine</td>\n",
              "      <td>2016</td>\n",
              "      <td>230</td>\n",
              "      <td>AreaTotHA</td>\n",
              "      <td>3.267800e+07</td>\n",
              "      <td>8.837000e+06</td>\n",
              "      <td>9678800</td>\n",
              "      <td>1.028120e+07</td>\n",
              "      <td>1.440340e+06</td>\n",
              "      <td>0.000000e+00</td>\n",
              "      <td>6.291534e+07</td>\n",
              "      <td>2A</td>\n",
              "    </tr>\n",
              "    <tr>\n",
              "      <th>1</th>\n",
              "      <td>Montenegro</td>\n",
              "      <td>2013</td>\n",
              "      <td>273</td>\n",
              "      <td>BiocapTotGHA</td>\n",
              "      <td>4.081066e+04</td>\n",
              "      <td>6.506471e+04</td>\n",
              "      <td>1.62678e+06</td>\n",
              "      <td>1.512980e+05</td>\n",
              "      <td>1.667999e+04</td>\n",
              "      <td>0.000000e+00</td>\n",
              "      <td>1.900632e+06</td>\n",
              "      <td>3A</td>\n",
              "    </tr>\n",
              "    <tr>\n",
              "      <th>2</th>\n",
              "      <td>Barbados</td>\n",
              "      <td>2011</td>\n",
              "      <td>14</td>\n",
              "      <td>BiocapPerCap</td>\n",
              "      <td>8.035727e-02</td>\n",
              "      <td>3.240255e-03</td>\n",
              "      <td>0.019217837</td>\n",
              "      <td>4.411033e-02</td>\n",
              "      <td>4.247618e-02</td>\n",
              "      <td>0.000000e+00</td>\n",
              "      <td>1.894019e-01</td>\n",
              "      <td>3A</td>\n",
              "    </tr>\n",
              "    <tr>\n",
              "      <th>3</th>\n",
              "      <td>Chile</td>\n",
              "      <td>1977</td>\n",
              "      <td>40</td>\n",
              "      <td>AreaTotHA</td>\n",
              "      <td>3.936577e+06</td>\n",
              "      <td>1.316342e+07</td>\n",
              "      <td>15186606.77</td>\n",
              "      <td>1.739020e+07</td>\n",
              "      <td>3.258970e+05</td>\n",
              "      <td>0.000000e+00</td>\n",
              "      <td>5.000270e+07</td>\n",
              "      <td>3A</td>\n",
              "    </tr>\n",
              "    <tr>\n",
              "      <th>4</th>\n",
              "      <td>South Africa</td>\n",
              "      <td>2016</td>\n",
              "      <td>202</td>\n",
              "      <td>EFConsPerCap</td>\n",
              "      <td>2.942660e-01</td>\n",
              "      <td>1.279657e-01</td>\n",
              "      <td>0.221245369</td>\n",
              "      <td>8.211616e-02</td>\n",
              "      <td>2.523715e-02</td>\n",
              "      <td>2.400628e+00</td>\n",
              "      <td>3.151458e+00</td>\n",
              "      <td>2A</td>\n",
              "    </tr>\n",
              "    <tr>\n",
              "      <th>...</th>\n",
              "      <td>...</td>\n",
              "      <td>...</td>\n",
              "      <td>...</td>\n",
              "      <td>...</td>\n",
              "      <td>...</td>\n",
              "      <td>...</td>\n",
              "      <td>...</td>\n",
              "      <td>...</td>\n",
              "      <td>...</td>\n",
              "      <td>...</td>\n",
              "      <td>...</td>\n",
              "      <td>...</td>\n",
              "    </tr>\n",
              "    <tr>\n",
              "      <th>585</th>\n",
              "      <td>Gabon</td>\n",
              "      <td>2016</td>\n",
              "      <td>74</td>\n",
              "      <td>AreaTotHA</td>\n",
              "      <td>4.950000e+05</td>\n",
              "      <td>4.665000e+06</td>\n",
              "      <td>23200000</td>\n",
              "      <td>4.657200e+06</td>\n",
              "      <td>7.718950e+04</td>\n",
              "      <td>0.000000e+00</td>\n",
              "      <td>3.309439e+07</td>\n",
              "      <td>2A</td>\n",
              "    </tr>\n",
              "    <tr>\n",
              "      <th>586</th>\n",
              "      <td>Netherlands</td>\n",
              "      <td>1973</td>\n",
              "      <td>150</td>\n",
              "      <td>AreaPerCap</td>\n",
              "      <td>9.738505e-02</td>\n",
              "      <td>1.004151e-01</td>\n",
              "      <td>0.020786743</td>\n",
              "      <td>4.884269e-01</td>\n",
              "      <td>2.620292e-02</td>\n",
              "      <td>0.000000e+00</td>\n",
              "      <td>7.332168e-01</td>\n",
              "      <td>3A</td>\n",
              "    </tr>\n",
              "    <tr>\n",
              "      <th>587</th>\n",
              "      <td>Finland</td>\n",
              "      <td>2016</td>\n",
              "      <td>67</td>\n",
              "      <td>EFProdPerCap</td>\n",
              "      <td>7.533517e-01</td>\n",
              "      <td>4.936446e-02</td>\n",
              "      <td>7.437320853</td>\n",
              "      <td>1.714518e-01</td>\n",
              "      <td>1.353134e-01</td>\n",
              "      <td>2.931224e+00</td>\n",
              "      <td>1.147803e+01</td>\n",
              "      <td>2A</td>\n",
              "    </tr>\n",
              "    <tr>\n",
              "      <th>588</th>\n",
              "      <td>Singapore</td>\n",
              "      <td>2006</td>\n",
              "      <td>200</td>\n",
              "      <td>BiocapPerCap</td>\n",
              "      <td>8.285090e-04</td>\n",
              "      <td>0.000000e+00</td>\n",
              "      <td>0.002899371</td>\n",
              "      <td>1.561580e-02</td>\n",
              "      <td>2.928748e-02</td>\n",
              "      <td>0.000000e+00</td>\n",
              "      <td>4.863115e-02</td>\n",
              "      <td>3A</td>\n",
              "    </tr>\n",
              "    <tr>\n",
              "      <th>589</th>\n",
              "      <td>Paraguay</td>\n",
              "      <td>2013</td>\n",
              "      <td>169</td>\n",
              "      <td>EFConsTotGHA</td>\n",
              "      <td>5.056742e+06</td>\n",
              "      <td>8.042399e+06</td>\n",
              "      <td>5628492.441</td>\n",
              "      <td>4.829135e+04</td>\n",
              "      <td>8.465478e+05</td>\n",
              "      <td>3.159352e+06</td>\n",
              "      <td>2.278182e+07</td>\n",
              "      <td>3A</td>\n",
              "    </tr>\n",
              "  </tbody>\n",
              "</table>\n",
              "<p>590 rows × 12 columns</p>\n",
              "</div>"
            ],
            "text/plain": [
              "          country  year  country_code  ...        carbon         total  QScore\n",
              "0         Ukraine  2016           230  ...  0.000000e+00  6.291534e+07      2A\n",
              "1      Montenegro  2013           273  ...  0.000000e+00  1.900632e+06      3A\n",
              "2        Barbados  2011            14  ...  0.000000e+00  1.894019e-01      3A\n",
              "3           Chile  1977            40  ...  0.000000e+00  5.000270e+07      3A\n",
              "4    South Africa  2016           202  ...  2.400628e+00  3.151458e+00      2A\n",
              "..            ...   ...           ...  ...           ...           ...     ...\n",
              "585         Gabon  2016            74  ...  0.000000e+00  3.309439e+07      2A\n",
              "586   Netherlands  1973           150  ...  0.000000e+00  7.332168e-01      3A\n",
              "587       Finland  2016            67  ...  2.931224e+00  1.147803e+01      2A\n",
              "588     Singapore  2006           200  ...  0.000000e+00  4.863115e-02      3A\n",
              "589      Paraguay  2013           169  ...  3.159352e+06  2.278182e+07      3A\n",
              "\n",
              "[590 rows x 12 columns]"
            ]
          },
          "metadata": {
            "tags": []
          },
          "execution_count": 72
        }
      ]
    },
    {
      "cell_type": "code",
      "metadata": {
        "id": "m_EuuFkXcSQa",
        "colab_type": "code",
        "colab": {
          "base_uri": "https://localhost:8080/",
          "height": 34
        },
        "outputId": "ee3b36a2-8cee-4bef-88f8-aad874ea647e"
      },
      "source": [
        "data_df.shape"
      ],
      "execution_count": 73,
      "outputs": [
        {
          "output_type": "execute_result",
          "data": {
            "text/plain": [
              "(590, 12)"
            ]
          },
          "metadata": {
            "tags": []
          },
          "execution_count": 73
        }
      ]
    },
    {
      "cell_type": "code",
      "metadata": {
        "id": "3We_7W-pccWt",
        "colab_type": "code",
        "colab": {}
      },
      "source": [
        "data_df = data_df.drop(columns = ['country_code', 'country', 'year'])\n",
        "x = data_df.drop(columns = 'QScore')\n",
        "y = data_df['QScore']"
      ],
      "execution_count": 74,
      "outputs": []
    },
    {
      "cell_type": "code",
      "metadata": {
        "id": "PXewsrHdddWz",
        "colab_type": "code",
        "colab": {
          "base_uri": "https://localhost:8080/",
          "height": 68
        },
        "outputId": "0f0dd6de-7c96-4b63-f014-7c4e70875269"
      },
      "source": [
        "from sklearn.model_selection import train_test_split\n",
        "x_train, x_test, y_train, y_test = train_test_split(x, y, test_size = 0.3,\n",
        "                                                    random_state = 0)\n",
        "y_train.value_counts()"
      ],
      "execution_count": 75,
      "outputs": [
        {
          "output_type": "execute_result",
          "data": {
            "text/plain": [
              "3A    259\n",
              "2A    154\n",
              "Name: QScore, dtype: int64"
            ]
          },
          "metadata": {
            "tags": []
          },
          "execution_count": 75
        }
      ]
    },
    {
      "cell_type": "code",
      "metadata": {
        "id": "LNRwKCP4p29K",
        "colab_type": "code",
        "colab": {
          "base_uri": "https://localhost:8080/",
          "height": 119
        },
        "outputId": "3b1087de-87a4-4f65-9106-7d0ce22d13bc"
      },
      "source": [
        "!pip install imblearn"
      ],
      "execution_count": 76,
      "outputs": [
        {
          "output_type": "stream",
          "text": [
            "Requirement already satisfied: imblearn in /usr/local/lib/python3.6/dist-packages (0.0)\n",
            "Requirement already satisfied: imbalanced-learn in /usr/local/lib/python3.6/dist-packages (from imblearn) (0.4.3)\n",
            "Requirement already satisfied: numpy>=1.8.2 in /usr/local/lib/python3.6/dist-packages (from imbalanced-learn->imblearn) (1.18.5)\n",
            "Requirement already satisfied: scipy>=0.13.3 in /usr/local/lib/python3.6/dist-packages (from imbalanced-learn->imblearn) (1.4.1)\n",
            "Requirement already satisfied: scikit-learn>=0.20 in /usr/local/lib/python3.6/dist-packages (from imbalanced-learn->imblearn) (0.22.2.post1)\n",
            "Requirement already satisfied: joblib>=0.11 in /usr/local/lib/python3.6/dist-packages (from scikit-learn>=0.20->imbalanced-learn->imblearn) (0.16.0)\n"
          ],
          "name": "stdout"
        }
      ]
    },
    {
      "cell_type": "code",
      "metadata": {
        "id": "yNU8y6NKgs-j",
        "colab_type": "code",
        "colab": {
          "base_uri": "https://localhost:8080/",
          "height": 119
        },
        "outputId": "87782c3d-8c81-4c6f-e15f-21ced79b8bff"
      },
      "source": [
        "from sklearn.preprocessing import LabelEncoder\n",
        "encoder = LabelEncoder()\n",
        "x_train.record = encoder.fit_transform(x_train.record)\n",
        "x_test.record = encoder.transform(x_test.record)"
      ],
      "execution_count": 77,
      "outputs": [
        {
          "output_type": "stream",
          "text": [
            "/usr/local/lib/python3.6/dist-packages/pandas/core/generic.py:5303: SettingWithCopyWarning: \n",
            "A value is trying to be set on a copy of a slice from a DataFrame.\n",
            "Try using .loc[row_indexer,col_indexer] = value instead\n",
            "\n",
            "See the caveats in the documentation: https://pandas.pydata.org/pandas-docs/stable/user_guide/indexing.html#returning-a-view-versus-a-copy\n",
            "  self[name] = value\n"
          ],
          "name": "stderr"
        }
      ]
    },
    {
      "cell_type": "code",
      "metadata": {
        "id": "E-9xIxCLhgAQ",
        "colab_type": "code",
        "colab": {
          "base_uri": "https://localhost:8080/",
          "height": 122
        },
        "outputId": "6f468a50-688a-4861-8d90-08af1a1fc0db"
      },
      "source": [
        "import imblearn\n",
        "from imblearn.over_sampling import SMOTE\n",
        "smote = SMOTE(random_state = 1)\n",
        "x_train_balanced, y_balanced = smote.fit_sample(x_train, y_train)\n",
        "y_train.value_counts()"
      ],
      "execution_count": 81,
      "outputs": [
        {
          "output_type": "stream",
          "text": [
            "/usr/local/lib/python3.6/dist-packages/sklearn/utils/deprecation.py:87: FutureWarning: Function safe_indexing is deprecated; safe_indexing is deprecated in version 0.22 and will be removed in version 0.24.\n",
            "  warnings.warn(msg, category=FutureWarning)\n"
          ],
          "name": "stderr"
        },
        {
          "output_type": "execute_result",
          "data": {
            "text/plain": [
              "3A    259\n",
              "2A    154\n",
              "Name: QScore, dtype: int64"
            ]
          },
          "metadata": {
            "tags": []
          },
          "execution_count": 81
        }
      ]
    },
    {
      "cell_type": "code",
      "metadata": {
        "id": "EjAT0SUXvjtu",
        "colab_type": "code",
        "colab": {
          "base_uri": "https://localhost:8080/",
          "height": 163
        },
        "outputId": "39fd0bdf-7172-42e5-bc1e-afe62974fd8d"
      },
      "source": [
        "x_train_balanced = pd.DataFrame(x_train_balanced.drop(columns = ['record']))"
      ],
      "execution_count": 83,
      "outputs": [
        {
          "output_type": "error",
          "ename": "AttributeError",
          "evalue": "ignored",
          "traceback": [
            "\u001b[0;31m---------------------------------------------------------------------------\u001b[0m",
            "\u001b[0;31mAttributeError\u001b[0m                            Traceback (most recent call last)",
            "\u001b[0;32m<ipython-input-83-fbcdfdbc4658>\u001b[0m in \u001b[0;36m<module>\u001b[0;34m()\u001b[0m\n\u001b[0;32m----> 1\u001b[0;31m \u001b[0mx_train_balanced\u001b[0m \u001b[0;34m=\u001b[0m \u001b[0mpd\u001b[0m\u001b[0;34m.\u001b[0m\u001b[0mDataFrame\u001b[0m\u001b[0;34m(\u001b[0m\u001b[0mx_train_balanced\u001b[0m\u001b[0;34m.\u001b[0m\u001b[0mdrop\u001b[0m\u001b[0;34m(\u001b[0m\u001b[0mcolumns\u001b[0m \u001b[0;34m=\u001b[0m \u001b[0;34m[\u001b[0m\u001b[0;34m'record'\u001b[0m\u001b[0;34m]\u001b[0m\u001b[0;34m)\u001b[0m\u001b[0;34m)\u001b[0m\u001b[0;34m\u001b[0m\u001b[0;34m\u001b[0m\u001b[0m\n\u001b[0m",
            "\u001b[0;31mAttributeError\u001b[0m: 'numpy.ndarray' object has no attribute 'drop'"
          ]
        }
      ]
    },
    {
      "cell_type": "code",
      "metadata": {
        "id": "Jw-87jCGk1sb",
        "colab_type": "code",
        "colab": {
          "base_uri": "https://localhost:8080/",
          "height": 231
        },
        "outputId": "d60cd69d-21c7-4965-a57b-91dce9efb90f"
      },
      "source": [
        "from sklearn.preprocessing import MinMaxScaler\n",
        "scaler = MinMaxScaler()\n",
        "normalized_train_df = scaler.fit_transform(x_train_balanced.drop(columns = ['record']))\n",
        "normalized_train_df = pd.DataFrame(normalized_train_df, columns = x_train_balanced.drop(columns=['record']).columns)\n",
        "normalized_train_df['record'] = x_train_balanced['record']"
      ],
      "execution_count": 82,
      "outputs": [
        {
          "output_type": "error",
          "ename": "AttributeError",
          "evalue": "ignored",
          "traceback": [
            "\u001b[0;31m---------------------------------------------------------------------------\u001b[0m",
            "\u001b[0;31mAttributeError\u001b[0m                            Traceback (most recent call last)",
            "\u001b[0;32m<ipython-input-82-0f7b12d14d6b>\u001b[0m in \u001b[0;36m<module>\u001b[0;34m()\u001b[0m\n\u001b[1;32m      1\u001b[0m \u001b[0;32mfrom\u001b[0m \u001b[0msklearn\u001b[0m\u001b[0;34m.\u001b[0m\u001b[0mpreprocessing\u001b[0m \u001b[0;32mimport\u001b[0m \u001b[0mMinMaxScaler\u001b[0m\u001b[0;34m\u001b[0m\u001b[0;34m\u001b[0m\u001b[0m\n\u001b[1;32m      2\u001b[0m \u001b[0mscaler\u001b[0m \u001b[0;34m=\u001b[0m \u001b[0mMinMaxScaler\u001b[0m\u001b[0;34m(\u001b[0m\u001b[0;34m)\u001b[0m\u001b[0;34m\u001b[0m\u001b[0;34m\u001b[0m\u001b[0m\n\u001b[0;32m----> 3\u001b[0;31m normalized_train_df = scaler.fit_transform(x_train_balanced\n\u001b[0m\u001b[1;32m      4\u001b[0m                                            .drop(columns = ['record']))\n\u001b[1;32m      5\u001b[0m \u001b[0mnormalized_train_df\u001b[0m \u001b[0;34m=\u001b[0m \u001b[0mpd\u001b[0m\u001b[0;34m.\u001b[0m\u001b[0mDataFrame\u001b[0m\u001b[0;34m(\u001b[0m\u001b[0mnormalized_train_df\u001b[0m\u001b[0;34m,\u001b[0m \u001b[0mcolumns\u001b[0m \u001b[0;34m=\u001b[0m \u001b[0mx_train_balanced\u001b[0m\u001b[0;34m.\u001b[0m\u001b[0mdrop\u001b[0m\u001b[0;34m(\u001b[0m\u001b[0mcolumns\u001b[0m\u001b[0;34m=\u001b[0m\u001b[0;34m[\u001b[0m\u001b[0;34m'record'\u001b[0m\u001b[0;34m]\u001b[0m\u001b[0;34m)\u001b[0m\u001b[0;34m.\u001b[0m\u001b[0mcolumns\u001b[0m\u001b[0;34m)\u001b[0m\u001b[0;34m\u001b[0m\u001b[0;34m\u001b[0m\u001b[0m\n",
            "\u001b[0;31mAttributeError\u001b[0m: 'numpy.ndarray' object has no attribute 'drop'"
          ]
        }
      ]
    },
    {
      "cell_type": "code",
      "metadata": {
        "id": "sLk1sgDZqLqE",
        "colab_type": "code",
        "colab": {}
      },
      "source": [
        "x_train_balanced"
      ],
      "execution_count": null,
      "outputs": []
    }
  ]
}