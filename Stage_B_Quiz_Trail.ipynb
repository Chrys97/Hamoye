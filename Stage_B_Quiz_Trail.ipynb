{
  "nbformat": 4,
  "nbformat_minor": 0,
  "metadata": {
    "colab": {
      "name": "Stage B Quiz Trail.ipynb",
      "provenance": [],
      "collapsed_sections": [],
      "mount_file_id": "1Nz02yMrZl2kCu5Y9j1ptLZHIeMVOuZL5",
      "authorship_tag": "ABX9TyPteVS5+SXdez+NDsfNBjXX",
      "include_colab_link": true
    },
    "kernelspec": {
      "name": "python3",
      "display_name": "Python 3"
    }
  },
  "cells": [
    {
      "cell_type": "markdown",
      "metadata": {
        "id": "view-in-github",
        "colab_type": "text"
      },
      "source": [
        "<a href=\"https://colab.research.google.com/github/Chrys97/Hamoye/blob/master/Stage_B_Quiz_Trail.ipynb\" target=\"_parent\"><img src=\"https://colab.research.google.com/assets/colab-badge.svg\" alt=\"Open In Colab\"/></a>"
      ]
    },
    {
      "cell_type": "markdown",
      "metadata": {
        "id": "T6AJ9ywwsuAu",
        "colab_type": "text"
      },
      "source": [
        "#### **importing relevant modules**"
      ]
    },
    {
      "cell_type": "code",
      "metadata": {
        "id": "O0_iSuQTsib_",
        "colab_type": "code",
        "colab": {
          "base_uri": "https://localhost:8080/",
          "height": 71
        },
        "outputId": "5f0d64e1-5f79-4179-d46d-fa809aabecca"
      },
      "source": [
        "import numpy as np\n",
        "import pandas as pd\n",
        "import seaborn as sns\n",
        "import matplotlib.pyplot as plt"
      ],
      "execution_count": 4,
      "outputs": [
        {
          "output_type": "stream",
          "text": [
            "/usr/local/lib/python3.6/dist-packages/statsmodels/tools/_testing.py:19: FutureWarning: pandas.util.testing is deprecated. Use the functions in the public API at pandas.testing instead.\n",
            "  import pandas.util.testing as tm\n"
          ],
          "name": "stderr"
        }
      ]
    },
    {
      "cell_type": "code",
      "metadata": {
        "id": "7luX1oBxtVM8",
        "colab_type": "code",
        "colab": {
          "base_uri": "https://localhost:8080/",
          "height": 221
        },
        "outputId": "c84e9687-0823-4c11-9ff0-462bd428ac53"
      },
      "source": [
        "df = pd.read_csv('/content/drive/My Drive/energydata_complete.csv')\n",
        "column_names = {'date': 'Date', 'lights': 'Lights', 'T1': 'Kitchen Temperature',\n",
        "                'RH_1': 'Kitchen Humidity', 'T2': 'Living Room Temperature', \n",
        "                'RH_2': 'Living Room Humidity', 'T3': 'Laundry Room Temperature', \n",
        "                'RH_3': 'Laundry Room Humidity', 'T4': 'Office Room Temperature', \n",
        "                'RH_4': 'Office Room Humidity', 'T5': 'Bathroom Temperature', \n",
        "                'RH_5': 'Bathroom Humidity', 'T6': 'Northside Outside Temperature', \n",
        "                'RH_6': 'Northside Outside Humidity', 'T7': 'Ironing Room Temperature', \n",
        "                'RH_7': 'Ironing Room Humidity', 'T8': 'Teenager Room Temperature', \n",
        "                'RH_8': 'Teenager Room Humidity', 'T9': 'Parents Room Temperature', \n",
        "                'RH_9': 'Parents Room Humidity', 'To': 'Temperature Outside', \n",
        "                'rv1': 'Random Variable 1', 'rv2': 'Random Variable 2'}\n",
        "df = df.rename(columns = column_names)\n",
        "df.columns"
      ],
      "execution_count": 6,
      "outputs": [
        {
          "output_type": "execute_result",
          "data": {
            "text/plain": [
              "Index(['Date', 'Appliances', 'Lights', 'Kitchen Temperature',\n",
              "       'Kitchen Humidity', 'Living Room Temperature', 'Living Room Humidity',\n",
              "       'Laundry Room Temperature', 'Laundry Room Humidity',\n",
              "       'Office Room Temperature', 'Office Room Humidity',\n",
              "       'Bathroom Temperature', 'Bathroom Humidity',\n",
              "       'Northside Outside Temperature', 'Northside Outside Humidity',\n",
              "       'Ironing Room Temperature', 'Ironing Room Humidity',\n",
              "       'Teenager Room Temperature', 'Teenager Room Humidity',\n",
              "       'Parents Room Temperature', 'Parents Room Humidity', 'T_out',\n",
              "       'Press_mm_hg', 'RH_out', 'Windspeed', 'Visibility', 'Tdewpoint',\n",
              "       'Random Variable 1', 'Random Variable 2'],\n",
              "      dtype='object')"
            ]
          },
          "metadata": {
            "tags": []
          },
          "execution_count": 6
        }
      ]
    },
    {
      "cell_type": "code",
      "metadata": {
        "id": "Bxk7QLG02AkA",
        "colab_type": "code",
        "colab": {
          "base_uri": "https://localhost:8080/",
          "height": 629
        },
        "outputId": "96281ecd-cfd9-4275-e033-4ec1dbe7a175"
      },
      "source": [
        "df.info()"
      ],
      "execution_count": 7,
      "outputs": [
        {
          "output_type": "stream",
          "text": [
            "<class 'pandas.core.frame.DataFrame'>\n",
            "RangeIndex: 19735 entries, 0 to 19734\n",
            "Data columns (total 29 columns):\n",
            " #   Column                         Non-Null Count  Dtype  \n",
            "---  ------                         --------------  -----  \n",
            " 0   Date                           19735 non-null  object \n",
            " 1   Appliances                     19735 non-null  int64  \n",
            " 2   Lights                         19735 non-null  int64  \n",
            " 3   Kitchen Temperature            19735 non-null  float64\n",
            " 4   Kitchen Humidity               19735 non-null  float64\n",
            " 5   Living Room Temperature        19735 non-null  float64\n",
            " 6   Living Room Humidity           19735 non-null  float64\n",
            " 7   Laundry Room Temperature       19735 non-null  float64\n",
            " 8   Laundry Room Humidity          19735 non-null  float64\n",
            " 9   Office Room Temperature        19735 non-null  float64\n",
            " 10  Office Room Humidity           19735 non-null  float64\n",
            " 11  Bathroom Temperature           19735 non-null  float64\n",
            " 12  Bathroom Humidity              19735 non-null  float64\n",
            " 13  Northside Outside Temperature  19735 non-null  float64\n",
            " 14  Northside Outside Humidity     19735 non-null  float64\n",
            " 15  Ironing Room Temperature       19735 non-null  float64\n",
            " 16  Ironing Room Humidity          19735 non-null  float64\n",
            " 17  Teenager Room Temperature      19735 non-null  float64\n",
            " 18  Teenager Room Humidity         19735 non-null  float64\n",
            " 19  Parents Room Temperature       19735 non-null  float64\n",
            " 20  Parents Room Humidity          19735 non-null  float64\n",
            " 21  T_out                          19735 non-null  float64\n",
            " 22  Press_mm_hg                    19735 non-null  float64\n",
            " 23  RH_out                         19735 non-null  float64\n",
            " 24  Windspeed                      19735 non-null  float64\n",
            " 25  Visibility                     19735 non-null  float64\n",
            " 26  Tdewpoint                      19735 non-null  float64\n",
            " 27  Random Variable 1              19735 non-null  float64\n",
            " 28  Random Variable 2              19735 non-null  float64\n",
            "dtypes: float64(26), int64(2), object(1)\n",
            "memory usage: 4.4+ MB\n"
          ],
          "name": "stdout"
        }
      ]
    },
    {
      "cell_type": "code",
      "metadata": {
        "id": "Xca1eVjI2tuP",
        "colab_type": "code",
        "colab": {
          "base_uri": "https://localhost:8080/",
          "height": 296
        },
        "outputId": "cf4b8939-3288-47df-d853-8520756e4286"
      },
      "source": [
        "sns.distplot(df['Appliances'])"
      ],
      "execution_count": 12,
      "outputs": [
        {
          "output_type": "execute_result",
          "data": {
            "text/plain": [
              "<matplotlib.axes._subplots.AxesSubplot at 0x7fa4d9dc0b00>"
            ]
          },
          "metadata": {
            "tags": []
          },
          "execution_count": 12
        },
        {
          "output_type": "display_data",
          "data": {
            "image/png": "[encoded data removed]",
            "text/plain": [
              "<Figure size 432x288 with 1 Axes>"
            ]
          },
          "metadata": {
            "tags": [],
            "needs_background": "light"
          }
        }
      ]
    },
    {
      "cell_type": "code",
      "metadata": {
        "id": "m1bLWCfn47gC",
        "colab_type": "code",
        "colab": {}
      },
      "source": [
        "df = df.drop(columns = ['Date', 'Lights'])"
      ],
      "execution_count": 16,
      "outputs": []
    },
    {
      "cell_type": "code",
      "metadata": {
        "id": "yA_li9po3Qow",
        "colab_type": "code",
        "colab": {}
      },
      "source": [
        "from sklearn.preprocessing import MinMaxScaler\n",
        "scaler = MinMaxScaler()\n",
        "normalized_df = pd.DataFrame(scaler.fit_transform(df), columns = df.columns)\n",
        "featured_df = normalized_df.drop(columns = ['Appliances'])\n",
        "target_variable = normalized_df['Appliances']"
      ],
      "execution_count": 17,
      "outputs": []
    },
    {
      "cell_type": "code",
      "metadata": {
        "id": "nXsAzRXv5UVe",
        "colab_type": "code",
        "colab": {}
      },
      "source": [
        "from sklearn.model_selection import train_test_split\n",
        "x_train, x_test, y_train, y_test = train_test_split(featured_df, target_variable,\n",
        "                                                    test_size = 0.3,\n",
        "                                                    random_state = 42)"
      ],
      "execution_count": 21,
      "outputs": []
    },
    {
      "cell_type": "code",
      "metadata": {
        "id": "l2n_Ug3c6FHu",
        "colab_type": "code",
        "colab": {
          "base_uri": "https://localhost:8080/",
          "height": 51
        },
        "outputId": "bb58d636-440e-412f-9801-3d0a7ec2524a"
      },
      "source": [
        "from sklearn.linear_model import LinearRegression\n",
        "linear_model = LinearRegression()\n",
        "linear_model.fit(x_train, y_train)\n",
        "predicted_linear = linear_model.predict(x_test)\n",
        "predicted_linear"
      ],
      "execution_count": 22,
      "outputs": [
        {
          "output_type": "execute_result",
          "data": {
            "text/plain": [
              "array([0.03322207, 0.24411599, 0.03400024, ..., 0.06844707, 0.10032325,\n",
              "       0.05722198])"
            ]
          },
          "metadata": {
            "tags": []
          },
          "execution_count": 22
        }
      ]
    },
    {
      "cell_type": "code",
      "metadata": {
        "id": "JYNnoetf6ieK",
        "colab_type": "code",
        "colab": {}
      },
      "source": [
        "from sklearn.metrics import mean_absolute_error\n",
        "mae_linear = mean_absolute_error(y_test, predicted_linear)\n",
        "\n",
        "from sklearn.metrics import mean_squared_error\n",
        "rmse_linear = np.sqrt(mean_squared_error(y_test, predicted_linear))\n",
        "\n",
        "ssr_linear = np.sum(np.square(y_test - predicted_linear))\n",
        "\n",
        "from sklearn.metrics import r2_score\n",
        "r2_linear = r2_score(y_test, predicted_linear)"
      ],
      "execution_count": 29,
      "outputs": []
    },
    {
      "cell_type": "markdown",
      "metadata": {
        "id": "dE95JGv_7dyV",
        "colab_type": "text"
      },
      "source": [
        "# **Ridge**"
      ]
    },
    {
      "cell_type": "code",
      "metadata": {
        "id": "tk8g6mNV7Ziw",
        "colab_type": "code",
        "colab": {}
      },
      "source": [
        "from sklearn.linear_model import Ridge\n",
        "ridge_reg = Ridge(alpha = 0.5)\n",
        "ridge_reg.fit(x_train, y_train)\n",
        "predicted_ridge = ridge_reg.predict(x_test)"
      ],
      "execution_count": 25,
      "outputs": []
    },
    {
      "cell_type": "code",
      "metadata": {
        "id": "-9aA8lfK78ac",
        "colab_type": "code",
        "colab": {}
      },
      "source": [
        "from sklearn.metrics import mean_absolute_error, mean_squared_error, r2_score\n",
        "\n",
        "mae_ridge = mean_absolute_error(y_test, predicted_ridge)\n",
        "rmse_ridge = np.sqrt(mean_squared_error(y_test, predicted_ridge))\n",
        "r2_ridge = r2_score(y_test, predicted_ridge)\n",
        "ssr_ridge = np.sum(np.square(y_test - predicted_ridge))"
      ],
      "execution_count": 26,
      "outputs": []
    },
    {
      "cell_type": "markdown",
      "metadata": {
        "id": "Px1XWqAW8sSA",
        "colab_type": "text"
      },
      "source": [
        "# **Lasso**"
      ]
    },
    {
      "cell_type": "code",
      "metadata": {
        "id": "MxA-iulr8q2I",
        "colab_type": "code",
        "colab": {}
      },
      "source": [
        "from sklearn.linear_model import Lasso\n",
        "Lasso_reg = Lasso(alpha = 0.001)\n",
        "Lasso_reg.fit(x_train, y_train)\n",
        "predicted_lasso = Lasso_reg.predict(x_test)"
      ],
      "execution_count": 27,
      "outputs": []
    },
    {
      "cell_type": "code",
      "metadata": {
        "id": "d8xFcb5A9ING",
        "colab_type": "code",
        "colab": {}
      },
      "source": [
        "from sklearn.metrics import mean_absolute_error, mean_squared_error, r2_score\n",
        "\n",
        "mae_lasso = mean_absolute_error(y_test, predicted_lasso)\n",
        "rmse_lasso = np.sqrt(mean_squared_error(y_test, predicted_lasso))\n",
        "r2_lasso = r2_score(y_test, predicted_lasso)\n",
        "ssr_lasso = np.sum(np.square(y_test - predicted_lasso))"
      ],
      "execution_count": 28,
      "outputs": []
    },
    {
      "cell_type": "code",
      "metadata": {
        "id": "CUF_DTS09nl9",
        "colab_type": "code",
        "colab": {
          "base_uri": "https://localhost:8080/",
          "height": 173
        },
        "outputId": "e5c9c2aa-b3c0-42a1-c9b6-4c72ec166663"
      },
      "source": [
        "comparison_dict = {'Linear Reg': [mae_linear, rmse_linear, ssr_linear, r2_linear],\n",
        "                   'Ridge Reg': [mae_ridge, rmse_ridge, ssr_ridge, r2_ridge], \n",
        "                   'Lasso Reg': [mae_lasso, rmse_lasso, ssr_lasso, r2_lasso]}\n",
        "comparison_df = pd.DataFrame(comparison_dict, index = ['mae', 'rmse', 'ssr', 'r2'])\n",
        "comparison_df.sort_values('Lasso Reg')"
      ],
      "execution_count": 35,
      "outputs": [
        {
          "output_type": "execute_result",
          "data": {
            "text/html": [
              "<div>\n",
              "<style scoped>\n",
              "    .dataframe tbody tr th:only-of-type {\n",
              "        vertical-align: middle;\n",
              "    }\n",
              "\n",
              "    .dataframe tbody tr th {\n",
              "        vertical-align: top;\n",
              "    }\n",
              "\n",
              "    .dataframe thead th {\n",
              "        text-align: right;\n",
              "    }\n",
              "</style>\n",
              "<table border=\"1\" class=\"dataframe\">\n",
              "  <thead>\n",
              "    <tr style=\"text-align: right;\">\n",
              "      <th></th>\n",
              "      <th>Linear Reg</th>\n",
              "      <th>Ridge Reg</th>\n",
              "      <th>Lasso Reg</th>\n",
              "    </tr>\n",
              "  </thead>\n",
              "  <tbody>\n",
              "    <tr>\n",
              "      <th>r2</th>\n",
              "      <td>0.148902</td>\n",
              "      <td>0.148382</td>\n",
              "      <td>0.026801</td>\n",
              "    </tr>\n",
              "    <tr>\n",
              "      <th>mae</th>\n",
              "      <td>0.050134</td>\n",
              "      <td>0.050082</td>\n",
              "      <td>0.055257</td>\n",
              "    </tr>\n",
              "    <tr>\n",
              "      <th>rmse</th>\n",
              "      <td>0.087514</td>\n",
              "      <td>0.087541</td>\n",
              "      <td>0.093582</td>\n",
              "    </tr>\n",
              "    <tr>\n",
              "      <th>ssr</th>\n",
              "      <td>45.347630</td>\n",
              "      <td>45.375342</td>\n",
              "      <td>51.853367</td>\n",
              "    </tr>\n",
              "  </tbody>\n",
              "</table>\n",
              "</div>"
            ],
            "text/plain": [
              "      Linear Reg  Ridge Reg  Lasso Reg\n",
              "r2      0.148902   0.148382   0.026801\n",
              "mae     0.050134   0.050082   0.055257\n",
              "rmse    0.087514   0.087541   0.093582\n",
              "ssr    45.347630  45.375342  51.853367"
            ]
          },
          "metadata": {
            "tags": []
          },
          "execution_count": 35
        }
      ]
    }
  ]
}